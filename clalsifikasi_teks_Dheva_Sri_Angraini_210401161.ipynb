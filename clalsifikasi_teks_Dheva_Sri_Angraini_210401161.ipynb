{
  "nbformat": 4,
  "nbformat_minor": 0,
  "metadata": {
    "colab": {
      "provenance": [],
      "authorship_tag": "ABX9TyMcX4T6pEJzd4FneGNvWZ3n",
      "include_colab_link": true
    },
    "kernelspec": {
      "name": "python3",
      "display_name": "Python 3"
    },
    "language_info": {
      "name": "python"
    }
  },
  "cells": [
    {
      "cell_type": "markdown",
      "metadata": {
        "id": "view-in-github",
        "colab_type": "text"
      },
      "source": [
        "<a href=\"https://colab.research.google.com/github/Dheva-Sri-Angraini/NLP/blob/main/clalsifikasi_teks_Dheva_Sri_Angraini_210401161.ipynb\" target=\"_parent\"><img src=\"https://colab.research.google.com/assets/colab-badge.svg\" alt=\"Open In Colab\"/></a>"
      ]
    },
    {
      "cell_type": "code",
      "execution_count": null,
      "metadata": {
        "colab": {
          "base_uri": "https://localhost:8080/"
        },
        "id": "wV-fECiqxQzt",
        "outputId": "f4e7f142-6ea9-468a-9de7-559850ff401d"
      },
      "outputs": [
        {
          "output_type": "stream",
          "name": "stdout",
          "text": [
            "   job_id                                      title            location  \\\n",
            "0       1                           Marketing Intern    US, NY, New York   \n",
            "1       2  Customer Service - Cloud Video Production      NZ, , Auckland   \n",
            "2       3    Commissioning Machinery Assistant (CMA)       US, IA, Wever   \n",
            "3       4          Account Executive - Washington DC  US, DC, Washington   \n",
            "4       5                        Bill Review Manager  US, FL, Fort Worth   \n",
            "\n",
            "  department salary_range                                    company_profile  \\\n",
            "0  Marketing          NaN  We're Food52, and we've created a groundbreaki...   \n",
            "1    Success          NaN  90 Seconds, the worlds Cloud Video Production ...   \n",
            "2        NaN          NaN  Valor Services provides Workforce Solutions th...   \n",
            "3      Sales          NaN  Our passion for improving quality of life thro...   \n",
            "4        NaN          NaN  SpotSource Solutions LLC is a Global Human Cap...   \n",
            "\n",
            "                                         description  \\\n",
            "0  Food52, a fast-growing, James Beard Award-winn...   \n",
            "1  Organised - Focused - Vibrant - Awesome!Do you...   \n",
            "2  Our client, located in Houston, is actively se...   \n",
            "3  THE COMPANY: ESRI – Environmental Systems Rese...   \n",
            "4  JOB TITLE: Itemization Review ManagerLOCATION:...   \n",
            "\n",
            "                                        requirements  \\\n",
            "0  Experience with content management systems a m...   \n",
            "1  What we expect from you:Your key responsibilit...   \n",
            "2  Implement pre-commissioning and commissioning ...   \n",
            "3  EDUCATION: Bachelor’s or Master’s in GIS, busi...   \n",
            "4  QUALIFICATIONS:RN license in the State of Texa...   \n",
            "\n",
            "                                            benefits  telecommuting  \\\n",
            "0                                                NaN              0   \n",
            "1  What you will get from usThrough being part of...              0   \n",
            "2                                                NaN              0   \n",
            "3  Our culture is anything but corporate—we have ...              0   \n",
            "4                              Full Benefits Offered              0   \n",
            "\n",
            "   has_company_logo  has_questions employment_type required_experience  \\\n",
            "0                 1              0           Other          Internship   \n",
            "1                 1              0       Full-time      Not Applicable   \n",
            "2                 1              0             NaN                 NaN   \n",
            "3                 1              0       Full-time    Mid-Senior level   \n",
            "4                 1              1       Full-time    Mid-Senior level   \n",
            "\n",
            "  required_education                   industry              function  \\\n",
            "0                NaN                        NaN             Marketing   \n",
            "1                NaN  Marketing and Advertising      Customer Service   \n",
            "2                NaN                        NaN                   NaN   \n",
            "3  Bachelor's Degree          Computer Software                 Sales   \n",
            "4  Bachelor's Degree     Hospital & Health Care  Health Care Provider   \n",
            "\n",
            "   fraudulent  \n",
            "0           0  \n",
            "1           0  \n",
            "2           0  \n",
            "3           0  \n",
            "4           0  \n"
          ]
        }
      ],
      "source": [
        "import pandas as pd\n",
        "\n",
        "# Muat dataset\n",
        "data = pd.read_csv('fake_job_postings.csv')\n",
        "\n",
        "# Lihat beberapa data teratas\n",
        "print(data.head())\n",
        "\n",
        "# Pilih kolom yang relevan dan lakukan pembersihan dasar\n",
        "# Misalnya, kita hanya menggunakan teks dari kolom 'description' dan 'requirements'\n",
        "data = data[['description', 'requirements', 'fraudulent']]\n",
        "data.dropna(inplace=True)  # Hapus baris dengan nilai yang hilang\n"
      ]
    },
    {
      "cell_type": "code",
      "source": [
        "from sklearn.feature_extraction.text import TfidfVectorizer\n",
        "\n",
        "# Gabungkan teks dari kolom 'description' dan 'requirements'\n",
        "data['text'] = data['description'] + ' ' + data['requirements']\n",
        "\n",
        "# Vektorisasi teks\n",
        "vectorizer = TfidfVectorizer(max_features=5000)\n",
        "X = vectorizer.fit_transform(data['text'])\n",
        "\n",
        "# Target/Label\n",
        "y = data['fraudulent']\n"
      ],
      "metadata": {
        "id": "F1yip2MhxR_i"
      },
      "execution_count": null,
      "outputs": []
    },
    {
      "cell_type": "code",
      "source": [
        "from sklearn.model_selection import train_test_split\n",
        "\n",
        "# Membagi data menjadi training set dan testing set\n",
        "X_train, X_test, y_train, y_test = train_test_split(X, y, test_size=0.2, random_state=42)\n"
      ],
      "metadata": {
        "id": "eb0mGq2UxVbk"
      },
      "execution_count": null,
      "outputs": []
    },
    {
      "cell_type": "code",
      "source": [
        "from sklearn.linear_model import LogisticRegression\n",
        "from sklearn.ensemble import RandomForestClassifier\n",
        "from sklearn.svm import SVC\n",
        "\n",
        "# Logistic Regression\n",
        "model_lr = LogisticRegression()\n",
        "model_lr.fit(X_train, y_train)\n",
        "\n",
        "# Random Forest\n",
        "model_rf = RandomForestClassifier()\n",
        "model_rf.fit(X_train, y_train)\n",
        "\n",
        "# SVM\n",
        "model_svm = SVC()\n",
        "model_svm.fit(X_train, y_train)\n"
      ],
      "metadata": {
        "colab": {
          "base_uri": "https://localhost:8080/",
          "height": 74
        },
        "id": "H7ZJuxWWxYHM",
        "outputId": "7ea1d698-2dbc-4caf-bdde-1ef7341ab6e3"
      },
      "execution_count": null,
      "outputs": [
        {
          "output_type": "execute_result",
          "data": {
            "text/plain": [
              "SVC()"
            ],
            "text/html": [
              "<style>#sk-container-id-1 {color: black;background-color: white;}#sk-container-id-1 pre{padding: 0;}#sk-container-id-1 div.sk-toggleable {background-color: white;}#sk-container-id-1 label.sk-toggleable__label {cursor: pointer;display: block;width: 100%;margin-bottom: 0;padding: 0.3em;box-sizing: border-box;text-align: center;}#sk-container-id-1 label.sk-toggleable__label-arrow:before {content: \"▸\";float: left;margin-right: 0.25em;color: #696969;}#sk-container-id-1 label.sk-toggleable__label-arrow:hover:before {color: black;}#sk-container-id-1 div.sk-estimator:hover label.sk-toggleable__label-arrow:before {color: black;}#sk-container-id-1 div.sk-toggleable__content {max-height: 0;max-width: 0;overflow: hidden;text-align: left;background-color: #f0f8ff;}#sk-container-id-1 div.sk-toggleable__content pre {margin: 0.2em;color: black;border-radius: 0.25em;background-color: #f0f8ff;}#sk-container-id-1 input.sk-toggleable__control:checked~div.sk-toggleable__content {max-height: 200px;max-width: 100%;overflow: auto;}#sk-container-id-1 input.sk-toggleable__control:checked~label.sk-toggleable__label-arrow:before {content: \"▾\";}#sk-container-id-1 div.sk-estimator input.sk-toggleable__control:checked~label.sk-toggleable__label {background-color: #d4ebff;}#sk-container-id-1 div.sk-label input.sk-toggleable__control:checked~label.sk-toggleable__label {background-color: #d4ebff;}#sk-container-id-1 input.sk-hidden--visually {border: 0;clip: rect(1px 1px 1px 1px);clip: rect(1px, 1px, 1px, 1px);height: 1px;margin: -1px;overflow: hidden;padding: 0;position: absolute;width: 1px;}#sk-container-id-1 div.sk-estimator {font-family: monospace;background-color: #f0f8ff;border: 1px dotted black;border-radius: 0.25em;box-sizing: border-box;margin-bottom: 0.5em;}#sk-container-id-1 div.sk-estimator:hover {background-color: #d4ebff;}#sk-container-id-1 div.sk-parallel-item::after {content: \"\";width: 100%;border-bottom: 1px solid gray;flex-grow: 1;}#sk-container-id-1 div.sk-label:hover label.sk-toggleable__label {background-color: #d4ebff;}#sk-container-id-1 div.sk-serial::before {content: \"\";position: absolute;border-left: 1px solid gray;box-sizing: border-box;top: 0;bottom: 0;left: 50%;z-index: 0;}#sk-container-id-1 div.sk-serial {display: flex;flex-direction: column;align-items: center;background-color: white;padding-right: 0.2em;padding-left: 0.2em;position: relative;}#sk-container-id-1 div.sk-item {position: relative;z-index: 1;}#sk-container-id-1 div.sk-parallel {display: flex;align-items: stretch;justify-content: center;background-color: white;position: relative;}#sk-container-id-1 div.sk-item::before, #sk-container-id-1 div.sk-parallel-item::before {content: \"\";position: absolute;border-left: 1px solid gray;box-sizing: border-box;top: 0;bottom: 0;left: 50%;z-index: -1;}#sk-container-id-1 div.sk-parallel-item {display: flex;flex-direction: column;z-index: 1;position: relative;background-color: white;}#sk-container-id-1 div.sk-parallel-item:first-child::after {align-self: flex-end;width: 50%;}#sk-container-id-1 div.sk-parallel-item:last-child::after {align-self: flex-start;width: 50%;}#sk-container-id-1 div.sk-parallel-item:only-child::after {width: 0;}#sk-container-id-1 div.sk-dashed-wrapped {border: 1px dashed gray;margin: 0 0.4em 0.5em 0.4em;box-sizing: border-box;padding-bottom: 0.4em;background-color: white;}#sk-container-id-1 div.sk-label label {font-family: monospace;font-weight: bold;display: inline-block;line-height: 1.2em;}#sk-container-id-1 div.sk-label-container {text-align: center;}#sk-container-id-1 div.sk-container {/* jupyter's `normalize.less` sets `[hidden] { display: none; }` but bootstrap.min.css set `[hidden] { display: none !important; }` so we also need the `!important` here to be able to override the default hidden behavior on the sphinx rendered scikit-learn.org. See: https://github.com/scikit-learn/scikit-learn/issues/21755 */display: inline-block !important;position: relative;}#sk-container-id-1 div.sk-text-repr-fallback {display: none;}</style><div id=\"sk-container-id-1\" class=\"sk-top-container\"><div class=\"sk-text-repr-fallback\"><pre>SVC()</pre><b>In a Jupyter environment, please rerun this cell to show the HTML representation or trust the notebook. <br />On GitHub, the HTML representation is unable to render, please try loading this page with nbviewer.org.</b></div><div class=\"sk-container\" hidden><div class=\"sk-item\"><div class=\"sk-estimator sk-toggleable\"><input class=\"sk-toggleable__control sk-hidden--visually\" id=\"sk-estimator-id-1\" type=\"checkbox\" checked><label for=\"sk-estimator-id-1\" class=\"sk-toggleable__label sk-toggleable__label-arrow\">SVC</label><div class=\"sk-toggleable__content\"><pre>SVC()</pre></div></div></div></div></div>"
            ]
          },
          "metadata": {},
          "execution_count": 4
        }
      ]
    },
    {
      "cell_type": "code",
      "source": [
        "from sklearn.metrics import classification_report\n",
        "\n",
        "# Evaluasi Logistic Regression\n",
        "predictions_lr = model_lr.predict(X_test)\n",
        "print('Logistic Regression:')\n",
        "print(classification_report(y_test, predictions_lr))\n",
        "\n",
        "# Evaluasi Random Forest\n",
        "predictions_rf = model_rf.predict(X_test)\n",
        "print('Random Forest:')\n",
        "print(classification_report(y_test, predictions_rf))\n",
        "\n",
        "# Evaluasi SVM\n",
        "predictions_svm = model_svm.predict(X_test)\n",
        "print('SVM:')\n",
        "print(classification_report(y_test, predictions_svm))\n"
      ],
      "metadata": {
        "colab": {
          "base_uri": "https://localhost:8080/"
        },
        "id": "KLxF0JZ4xari",
        "outputId": "40d85b4a-f30c-4165-f59f-fbe7af7b8e24"
      },
      "execution_count": null,
      "outputs": [
        {
          "output_type": "stream",
          "name": "stdout",
          "text": [
            "Logistic Regression:\n",
            "              precision    recall  f1-score   support\n",
            "\n",
            "           0       0.96      1.00      0.98      2879\n",
            "           1       0.98      0.27      0.43       158\n",
            "\n",
            "    accuracy                           0.96      3037\n",
            "   macro avg       0.97      0.64      0.70      3037\n",
            "weighted avg       0.96      0.96      0.95      3037\n",
            "\n",
            "Random Forest:\n",
            "              precision    recall  f1-score   support\n",
            "\n",
            "           0       0.97      1.00      0.99      2879\n",
            "           1       1.00      0.49      0.66       158\n",
            "\n",
            "    accuracy                           0.97      3037\n",
            "   macro avg       0.99      0.75      0.82      3037\n",
            "weighted avg       0.97      0.97      0.97      3037\n",
            "\n",
            "SVM:\n",
            "              precision    recall  f1-score   support\n",
            "\n",
            "           0       0.97      1.00      0.99      2879\n",
            "           1       0.99      0.46      0.62       158\n",
            "\n",
            "    accuracy                           0.97      3037\n",
            "   macro avg       0.98      0.73      0.80      3037\n",
            "weighted avg       0.97      0.97      0.97      3037\n",
            "\n"
          ]
        }
      ]
    },
    {
      "cell_type": "code",
      "source": [],
      "metadata": {
        "id": "dfz2CpyHxglo"
      },
      "execution_count": null,
      "outputs": []
    }
  ]
}